{
  "nbformat": 4,
  "nbformat_minor": 0,
  "metadata": {
    "colab": {
      "name": "TechLev_demo2.ipynb",
      "provenance": [],
      "collapsed_sections": [],
      "include_colab_link": true
    },
    "kernelspec": {
      "name": "python3",
      "display_name": "Python 3"
    },
    "language_info": {
      "name": "python"
    }
  },
  "cells": [
    {
      "cell_type": "markdown",
      "metadata": {
        "id": "view-in-github",
        "colab_type": "text"
      },
      "source": [
        "<a href=\"https://colab.research.google.com/github/batbayar738/PolymorphicVirus/blob/master/TechLev_demo2.ipynb\" target=\"_parent\"><img src=\"https://colab.research.google.com/assets/colab-badge.svg\" alt=\"Open In Colab\"/></a>"
      ]
    },
    {
      "cell_type": "markdown",
      "metadata": {
        "id": "h2dOmeBKWRdy"
      },
      "source": [
        "#Demo 2: *Post*-processing Technical Leverage Python"
      ]
    },
    {
      "cell_type": "code",
      "metadata": {
        "id": "ZyugrCCdUCxc"
      },
      "source": [
        "import numpy as np\n",
        "import matplotlib.pyplot as plt\n",
        "import csv\n",
        "import collections"
      ],
      "execution_count": null,
      "outputs": []
    },
    {
      "cell_type": "markdown",
      "metadata": {
        "id": "g9Yw-REjWJ-X"
      },
      "source": [
        "### Read Output.csv"
      ]
    },
    {
      "cell_type": "code",
      "metadata": {
        "colab": {
          "base_uri": "https://localhost:8080/"
        },
        "id": "frgzHOYqXzLw",
        "outputId": "8a75427e-3f03-4f79-94c3-61b32e953b76"
      },
      "source": [
        "from google.colab import drive\n",
        "drive.mount('/content/drive')"
      ],
      "execution_count": null,
      "outputs": [
        {
          "output_type": "stream",
          "name": "stdout",
          "text": [
            "Mounted at /content/drive\n"
          ]
        }
      ]
    },
    {
      "cell_type": "code",
      "metadata": {
        "id": "EALYDWGzUOhp"
      },
      "source": [
        "vuln_techlev = dict()\n",
        "max = 0\n",
        "min = float('inf')\n",
        "\n",
        "#with open('/content/drive/My Drive/Research/output.csv','r') as csvfile: \n",
        "with open('drive/My Drive/Colab Notebooks/output.csv', 'r') as csvfile: \n",
        "    rows = csv.reader(csvfile, delimiter=',')\n",
        "    for row in rows:\n",
        "      if row[0] == \"pkg_name\":\n",
        "        continue\n",
        "\n",
        "      val = float(row[4])\n",
        "      if not row[7] in vuln_techlev:\n",
        "        vuln_techlev[row[7]] = []\n",
        "      vuln_techlev[row[7]].append(val)\n",
        "\n",
        "      if val > max:\n",
        "        max = val\n",
        "      if val < min:\n",
        "        min = val\n",
        "vuln_techlev = collections.OrderedDict(sorted(vuln_techlev.items()))\n",
        "vuln_techlev = dict(vuln_techlev)"
      ],
      "execution_count": null,
      "outputs": []
    },
    {
      "cell_type": "markdown",
      "metadata": {
        "id": "JVvSt2vkekLv"
      },
      "source": [
        "#Create box plot\n"
      ]
    },
    {
      "cell_type": "code",
      "metadata": {
        "id": "VhOPZe5deISH"
      },
      "source": [
        "avg = (max + min)/2"
      ],
      "execution_count": null,
      "outputs": []
    },
    {
      "cell_type": "code",
      "metadata": {
        "id": "fBHxUf_xURqA",
        "colab": {
          "base_uri": "https://localhost:8080/",
          "height": 297
        },
        "outputId": "943771f6-cc75-4f1d-abdb-325568d3ca97"
      },
      "source": [
        "keys, values = vuln_techlev.keys(), vuln_techlev.values()\n",
        "\n",
        "bp = plt.boxplot(np.array(list(values), dtype=\"object\"), 0, sym=\"r+\", patch_artist=True)\n",
        "plt.xticks(range(1, len(keys) + 1), keys)\n",
        "plt.axhline(avg, c='r')\n",
        "plt.title('Demo 2: Technical leverage and Security', fontweight='bold', fontsize='16')\n",
        "plt.ylabel('Max direct leverage(log-scale)')\n",
        "plt.xlabel('Num vulnerabilities')\n",
        "\n",
        "for box in bp['boxes']:\n",
        "    box.set(edgecolor='blue', linewidth=1)\n",
        "    box.set(facecolor = 'white' )\n",
        "plt.show()"
      ],
      "execution_count": null,
      "outputs": [
        {
          "output_type": "display_data",
          "data": {
            "image/png": "[encoded data removed]",
            "text/plain": [
              "<Figure size 432x288 with 1 Axes>"
            ]
          },
          "metadata": {
            "needs_background": "light"
          }
        }
      ]
    }
  ]
}